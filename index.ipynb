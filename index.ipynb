{
 "cells": [
  {
   "cell_type": "markdown",
   "metadata": {},
   "source": [
    "# One-Sample z-test - Lab\n",
    "\n",
    "## Introduction\n",
    "In this lab, you'll perform a few quick tests to help you better understand how hypothesis testing works.\n",
    "\n",
    "## Objectives\n",
    "You will be able to:\n",
    "\n",
    "* Explain use cases for a 1-sample z-test\n",
    "* Set up null and alternative hypotheses\n",
    "* Use the z-table and scipy methods to acquire the p value for a given z-score\n",
    "* Calculate and interpret p-value for significance of results\n",
    "\n",
    "## Exercise 1\n",
    "A fast-food chain claims that the mean time to order food at their restaurants is 60 seconds, with a standard deviation of 30 seconds. You decide to put this claim to the test and go to one of the restaurants to observe actual waiting times. You take a sample of 36 customers and find that the mean order time was 75 seconds. Does this finding provide enough evidence to contradict the fast food chain's claim of fast service?\n",
    "\n",
    "Follow the 5 steps shown in previous lesson and use $\\alpha$ = 0.05. "
   ]
  },
  {
   "cell_type": "code",
   "execution_count": 1,
   "metadata": {},
   "outputs": [],
   "source": [
    "# State your null and alternative hypotheses"
   ]
  },
  {
   "cell_type": "markdown",
   "metadata": {},
   "source": [
    "$H_a$: the sample mean time to order food is less than or equal to 60 seconds.\n",
    "\n",
    "$H_0$: the sample mean time to order food is greater than 60 seconds.\n",
    "\n",
    "$\\alpha = 0.05$"
   ]
  },
  {
   "cell_type": "code",
   "execution_count": 2,
   "metadata": {},
   "outputs": [
    {
     "name": "stdout",
     "output_type": "stream",
     "text": [
      "(p = 0.0013498980316301035, z = 3.0)\n"
     ]
    }
   ],
   "source": [
    "# Your solution here\n",
    "\n",
    "# (p = 0.0013498980316301035, z = 3.0)\n",
    "\n",
    "alpha = 0.05\n",
    "\n",
    "import scipy.stats as stats\n",
    "from math import sqrt\n",
    "\n",
    "x_bar = 75 # sample mean \n",
    "n = 36 # number of customers\n",
    "sigma = 30 # sd of population\n",
    "mu = 60 # Population mean \n",
    "\n",
    "z = (x_bar - mu)/(sigma/sqrt(n))\n",
    "#print(z)\n",
    "\n",
    "cdf = stats.norm.cdf(z)\n",
    "#print(cdf)\n",
    "\n",
    "pval = 1 - cdf\n",
    "#print(pval)\n",
    "\n",
    "print(f\"(p = {pval}, z = {z})\")"
   ]
  },
  {
   "cell_type": "code",
   "execution_count": 3,
   "metadata": {},
   "outputs": [
    {
     "name": "stdout",
     "output_type": "stream",
     "text": [
      "Since p_val==0.0013498980316301035 <= significance level (0.05), given the evidence, we can accept the alternate hypothesis - thus mean time is less than or equal to 60 seconds, with a standard devation of 30 seconds.\n"
     ]
    }
   ],
   "source": [
    "# Interpret the results in terms of the p-value\n",
    "if pval > alpha:\n",
    "    print(f\"Since p_val=={pval} > significance level ({alpha}), given the evidence, we CANNOT REJECT NULL HYPOTHESIS - thus, mean time to order food is greater than 60 seconds, with a standard devation of 30 seconds!\")\n",
    "else:\n",
    "    print(f\"Since p_val=={pval} <= significance level ({alpha}), given the evidence, we can accept the alternate hypothesis - thus mean time is less than or equal to 60 seconds, with a standard devation of 30 seconds.\")"
   ]
  },
  {
   "cell_type": "markdown",
   "metadata": {},
   "source": [
    "## Exercise 2\n",
    "\n",
    "25 students complete a preparation program for taking the SAT test.  Here are the SAT scores from the 25 students who completed the program:\n",
    "\n",
    "``\n",
    "434 694 457 534 720 400 484 478 610 641 425 636 454 \n",
    "514 563 370 499 640 501 625 612 471 598 509 531\n",
    "``\n",
    "\n",
    "We know that the population average for SAT scores is 500 with a standard deviation of 100.\n",
    "\n",
    "Are our 25 students’ SAT scores significantly higher than the population's mean score? \n",
    "\n",
    "*Note that the SAT preparation program claims that it will increase (and not decrease) the SAT score.  So, you can conduct a one-directional test. (alpha = .05).*"
   ]
  },
  {
   "cell_type": "code",
   "execution_count": 4,
   "metadata": {},
   "outputs": [],
   "source": [
    "# State your hypotheses "
   ]
  },
  {
   "cell_type": "markdown",
   "metadata": {},
   "source": [
    "$H_a$: the SAT preparation program will increase (and not decrease) the SAT score: the sample mean SAT score is greater than 500.\n",
    "\n",
    "$H_0$: the SAT preparation program will not increase the SAT score: the sample mean SAT score is less than or equal to 500.\n",
    "\n",
    "$\\alpha = 0.05$"
   ]
  },
  {
   "cell_type": "code",
   "execution_count": 5,
   "metadata": {},
   "outputs": [
    {
     "name": "stdout",
     "output_type": "stream",
     "text": [
      "(p = 0.03593031911292577, z = 1.8)\n"
     ]
    }
   ],
   "source": [
    "import numpy as np\n",
    "\n",
    "# Give your solution here \n",
    "s = np.array([434, 694, 457, 534, 720, 400, 484, 478, 610, 641, 425, 636, 454, 514, 563, 370, 499, 640, 501, 625, 612, 471, 598, 509, 531])\n",
    "x_bar = s.mean() # sample mean\n",
    "#print(x_bar)\n",
    "n = len(s) # number of customers\n",
    "sigma = 100 # sd of population\n",
    "mu = 500 # Population mean \n",
    "\n",
    "z = (x_bar - mu)/(sigma/sqrt(n))\n",
    "#print(z)\n",
    "\n",
    "cdf = stats.norm.cdf(z)\n",
    "#print(cdf)\n",
    "\n",
    "pval = 1 - cdf\n",
    "#print(pval)\n",
    "\n",
    "# p = 0.03593031911292577, z = 1.8\n",
    "print(f\"(p = {pval}, z = {z})\")"
   ]
  },
  {
   "cell_type": "code",
   "execution_count": 6,
   "metadata": {},
   "outputs": [
    {
     "name": "stdout",
     "output_type": "stream",
     "text": [
      "Since p_val==0.03593031911292577 <= significance level (0.05), given the evidence, we can accept the alternate hypothesis, that the SAT preparation program will increase (and not decrease) SAT scores.\n"
     ]
    }
   ],
   "source": [
    "# Interpret the results in terms of the p-value\n",
    "if pval > alpha:\n",
    "    print(f\"Since p_val=={pval} > significance level ({alpha}), given the evidence, we CANNOT REJECT NULL HYPOTHESIS - thus, that the SAT preparation program will not increase SAT scores.\")\n",
    "else:\n",
    "    print(f\"Since p_val=={pval} <= significance level ({alpha}), given the evidence, we can accept the alternate hypothesis, that the SAT preparation program will increase (and not decrease) SAT scores.\")"
   ]
  },
  {
   "cell_type": "markdown",
   "metadata": {},
   "source": [
    "## Summary\n",
    "\n",
    "In this lesson, you conducted a couple of simple tests comparing sample and population means, in an attempt to reject our null hypotheses. This provides you with a strong foundation to move ahead with more advanced tests and approaches later on."
   ]
  }
 ],
 "metadata": {
  "kernelspec": {
   "display_name": "Python [conda env:learn-env] *",
   "language": "python",
   "name": "conda-env-learn-env-py"
  },
  "language_info": {
   "codemirror_mode": {
    "name": "ipython",
    "version": 3
   },
   "file_extension": ".py",
   "mimetype": "text/x-python",
   "name": "python",
   "nbconvert_exporter": "python",
   "pygments_lexer": "ipython3",
   "version": "3.6.10"
  },
  "toc": {
   "base_numbering": 1,
   "nav_menu": {},
   "number_sections": true,
   "sideBar": true,
   "skip_h1_title": false,
   "title_cell": "Table of Contents",
   "title_sidebar": "Contents",
   "toc_cell": false,
   "toc_position": {},
   "toc_section_display": true,
   "toc_window_display": false
  }
 },
 "nbformat": 4,
 "nbformat_minor": 4
}
